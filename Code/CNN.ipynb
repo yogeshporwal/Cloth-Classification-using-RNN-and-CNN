{
  "nbformat": 4,
  "nbformat_minor": 0,
  "metadata": {
    "colab": {
      "name": "CNN.ipynb",
      "provenance": [],
      "collapsed_sections": []
    },
    "kernelspec": {
      "name": "python3",
      "display_name": "Python 3"
    }
  },
  "cells": [
    {
      "cell_type": "markdown",
      "metadata": {
        "id": "GhumPtv5JsB4"
      },
      "source": [
        "#**1. Importing Required Packages** "
      ]
    },
    {
      "cell_type": "code",
      "metadata": {
        "id": "_hE2ZFSJwv_2"
      },
      "source": [
        "#importing tensorflow.compat.v1 and disabling v2 behaviour\n",
        "\n",
        "import tensorflow.compat.v1 as tf\n",
        "tf.disable_v2_behavior()"
      ],
      "execution_count": 3,
      "outputs": []
    },
    {
      "cell_type": "code",
      "metadata": {
        "id": "3K-shgAvwxIu"
      },
      "source": [
        "import numpy as np #for storing dataset\n",
        "import matplotlib.pyplot as plt #for plotting purpose"
      ],
      "execution_count": 4,
      "outputs": []
    },
    {
      "cell_type": "markdown",
      "metadata": {
        "id": "Cr86rA-_KQfU"
      },
      "source": [
        "#**2.Loading fashion_mnsit Dataset**"
      ]
    },
    {
      "cell_type": "code",
      "metadata": {
        "id": "xrXfBRGaKKCe"
      },
      "source": [
        "#load fashion mnist dataset using keras\n",
        "\n",
        "def load_data():\n",
        "  \n",
        "  fashion_mnist = tf.keras.datasets.fashion_mnist\n",
        "  (train_image_data, train_classes), (test_image_data, test_labels) = fashion_mnist.load_data()\n",
        "  train_image_data=train_image_data/255.0\n",
        "  test_image_data=test_image_data/255.0\n",
        "  return (train_image_data,train_classes,test_image_data,test_labels);"
      ],
      "execution_count": 5,
      "outputs": []
    },
    {
      "cell_type": "code",
      "metadata": {
        "colab": {
          "base_uri": "https://localhost:8080/"
        },
        "id": "wiVx4TadKjP1",
        "outputId": "89dd8846-dd2d-401c-88b7-3b9c4cd47ebd"
      },
      "source": [
        "#downloading data and will store in four numpy arrays\n",
        "\n",
        "train_image_data,train_classes,test_image_data,test_labels=load_data()"
      ],
      "execution_count": 6,
      "outputs": [
        {
          "output_type": "stream",
          "text": [
            "Downloading data from https://storage.googleapis.com/tensorflow/tf-keras-datasets/train-labels-idx1-ubyte.gz\n",
            "32768/29515 [=================================] - 0s 0us/step\n",
            "Downloading data from https://storage.googleapis.com/tensorflow/tf-keras-datasets/train-images-idx3-ubyte.gz\n",
            "26427392/26421880 [==============================] - 0s 0us/step\n",
            "Downloading data from https://storage.googleapis.com/tensorflow/tf-keras-datasets/t10k-labels-idx1-ubyte.gz\n",
            "8192/5148 [===============================================] - 0s 0us/step\n",
            "Downloading data from https://storage.googleapis.com/tensorflow/tf-keras-datasets/t10k-images-idx3-ubyte.gz\n",
            "4423680/4422102 [==============================] - 0s 0us/step\n"
          ],
          "name": "stdout"
        }
      ]
    },
    {
      "cell_type": "code",
      "metadata": {
        "id": "j2mXVfqAKn2H"
      },
      "source": [
        "#labels for claasified data\n",
        "classification_labels = ['T-shirt/top', 'Trouser', 'Pullover', 'Dress', 'Coat','Sandal', 'Shirt', 'Sneaker', 'Bag', 'Ankle boot']"
      ],
      "execution_count": 7,
      "outputs": []
    },
    {
      "cell_type": "markdown",
      "metadata": {
        "id": "UxgP3lPwKzQf"
      },
      "source": [
        "#**3. Exploring Dataset**"
      ]
    },
    {
      "cell_type": "code",
      "metadata": {
        "colab": {
          "base_uri": "https://localhost:8080/",
          "height": 269
        },
        "id": "xIuroJ_9KuwN",
        "outputId": "df795b93-82b6-4c06-f02f-5adee11c5bdd"
      },
      "source": [
        "#plotting a sample image from train data\n",
        "\n",
        "plt.imshow(train_image_data[1])\n",
        "plt.colorbar()\n",
        "plt.grid(False)\n",
        "plt.show()"
      ],
      "execution_count": 8,
      "outputs": [
        {
          "output_type": "display_data",
          "data": {
            "image/png": "[encoded data removed]",
            "text/plain": [
              "<Figure size 432x288 with 2 Axes>"
            ]
          },
          "metadata": {
            "tags": [],
            "needs_background": "light"
          }
        }
      ]
    },
    {
      "cell_type": "code",
      "metadata": {
        "colab": {
          "base_uri": "https://localhost:8080/"
        },
        "id": "mPXyyJA9K3EX",
        "outputId": "50125ba2-ac14-4fd9-de43-1b598d0f03eb"
      },
      "source": [
        "train_image_data.shape"
      ],
      "execution_count": 9,
      "outputs": [
        {
          "output_type": "execute_result",
          "data": {
            "text/plain": [
              "(60000, 28, 28)"
            ]
          },
          "metadata": {
            "tags": []
          },
          "execution_count": 9
        }
      ]
    },
    {
      "cell_type": "code",
      "metadata": {
        "colab": {
          "base_uri": "https://localhost:8080/"
        },
        "id": "ll0MJGffK_5Y",
        "outputId": "e5e98f0c-812e-493b-b653-e4041fa919a6"
      },
      "source": [
        "test_image_data.shape"
      ],
      "execution_count": 10,
      "outputs": [
        {
          "output_type": "execute_result",
          "data": {
            "text/plain": [
              "(10000, 28, 28)"
            ]
          },
          "metadata": {
            "tags": []
          },
          "execution_count": 10
        }
      ]
    },
    {
      "cell_type": "markdown",
      "metadata": {
        "id": "IENMlQykLLW9"
      },
      "source": [
        "#**4. Randomally Splitting Training Data into Train Set and Validation Set**\n"
      ]
    },
    {
      "cell_type": "code",
      "metadata": {
        "id": "xwuWfnwvLCuN"
      },
      "source": [
        "#split train data into train set and validation set using given fraction size of validation set\n",
        "\n",
        "def split_train_data(train_image_data,validation_set_size,seed_val):\n",
        "  \n",
        "  from sklearn.model_selection import train_test_split\n",
        "  train_set, validation_set, train_labels,validation_labels = train_test_split(train_image_data, train_classes, test_size=validation_set_size, random_state=seed_val)\n",
        "  return (train_set, validation_set, train_labels,validation_labels);"
      ],
      "execution_count": 12,
      "outputs": []
    },
    {
      "cell_type": "code",
      "metadata": {
        "id": "O_uqkLARLJZ9"
      },
      "source": [
        "train_set, validation_set, train_labels,validation_labels=split_train_data(train_image_data,validation_set_size=0.15,seed_val=40)"
      ],
      "execution_count": 13,
      "outputs": []
    },
    {
      "cell_type": "markdown",
      "metadata": {
        "id": "Bs6ym8xzLgYG"
      },
      "source": [
        "#**5. Exploring Splitted Dataset**"
      ]
    },
    {
      "cell_type": "code",
      "metadata": {
        "colab": {
          "base_uri": "https://localhost:8080/",
          "height": 269
        },
        "id": "s7oqLscuLXm1",
        "outputId": "02c127b5-3d50-4d90-cd17-7a84558cff74"
      },
      "source": [
        "#plotting a sample image from train set\n",
        "\n",
        "plt.imshow(train_set[5])\n",
        "plt.colorbar()\n",
        "plt.grid(False)\n",
        "plt.show()"
      ],
      "execution_count": 14,
      "outputs": [
        {
          "output_type": "display_data",
          "data": {
            "image/png": "[encoded data removed]",
            "text/plain": [
              "<Figure size 432x288 with 2 Axes>"
            ]
          },
          "metadata": {
            "tags": [],
            "needs_background": "light"
          }
        }
      ]
    },
    {
      "cell_type": "code",
      "metadata": {
        "colab": {
          "base_uri": "https://localhost:8080/",
          "height": 476
        },
        "id": "_NbyvUokLnHs",
        "outputId": "d20ba3bd-4835-4489-d8e4-72828a58b7cb"
      },
      "source": [
        "#plotting some train set images with their provided labels\n",
        "\n",
        "plt.figure(figsize=(10,10))\n",
        "for i in range(20):\n",
        "    plt.subplot(5,5,i+1)\n",
        "    plt.xticks([])\n",
        "    plt.yticks([])\n",
        "    plt.grid(False)\n",
        "    plt.imshow(train_set[i], cmap=plt.cm.binary)\n",
        "    plt.xlabel(classification_labels[train_labels[i]])\n",
        "plt.show()"
      ],
      "execution_count": 15,
      "outputs": [
        {
          "output_type": "display_data",
          "data": {
            "image/png": "[encoded data removed]",
            "text/plain": [
              "<Figure size 720x720 with 20 Axes>"
            ]
          },
          "metadata": {
            "tags": []
          }
        }
      ]
    },
    {
      "cell_type": "code",
      "metadata": {
        "colab": {
          "base_uri": "https://localhost:8080/"
        },
        "id": "1RszKY5mLreB",
        "outputId": "bb7e1d3b-9971-40ce-81ca-a7c723c1ddbf"
      },
      "source": [
        "train_set.shape"
      ],
      "execution_count": 16,
      "outputs": [
        {
          "output_type": "execute_result",
          "data": {
            "text/plain": [
              "(51000, 28, 28)"
            ]
          },
          "metadata": {
            "tags": []
          },
          "execution_count": 16
        }
      ]
    },
    {
      "cell_type": "code",
      "metadata": {
        "colab": {
          "base_uri": "https://localhost:8080/"
        },
        "id": "FIGJ5MddLwPQ",
        "outputId": "bc9f084d-3ae5-4889-c877-5c8f59d085af"
      },
      "source": [
        "validation_set.shape"
      ],
      "execution_count": 17,
      "outputs": [
        {
          "output_type": "execute_result",
          "data": {
            "text/plain": [
              "(9000, 28, 28)"
            ]
          },
          "metadata": {
            "tags": []
          },
          "execution_count": 17
        }
      ]
    },
    {
      "cell_type": "markdown",
      "metadata": {
        "id": "oh-dg4cVL30g"
      },
      "source": [
        "#**6. Setting Parameters and Hyperparameters**"
      ]
    },
    {
      "cell_type": "code",
      "metadata": {
        "id": "-NonIZ7WLypL"
      },
      "source": [
        "#Parameters\n",
        "\n",
        "n_input = 28 # Fashion MNIST img shape: 28*28, so each row has 28 entries ,and one row will be input\n",
        "n_timesteps = 28 # Timesteps in RNN, as 28 rows are there and one time one row will be input so 28 timesteps\n",
        "n_labels = 10 # fashion MNIST total classes (0-9 digits)"
      ],
      "execution_count": 18,
      "outputs": []
    },
    {
      "cell_type": "code",
      "metadata": {
        "id": "eGwjeeD9MN_r"
      },
      "source": [
        "#Hyperparameters\n",
        "\n",
        "learning_rate = 0.001\n",
        "n_hidden_states = 100 # hidden layer: num of features"
      ],
      "execution_count": 19,
      "outputs": []
    },
    {
      "cell_type": "markdown",
      "metadata": {
        "id": "4reDrJABMqUj"
      },
      "source": [
        "#**Building CNN**"
      ]
    },
    {
      "cell_type": "code",
      "metadata": {
        "id": "LKqBzSnsMRPG"
      },
      "source": [
        "#Clears the default graph stack and resets the global default graph.\n",
        "\n",
        "tf.reset_default_graph()"
      ],
      "execution_count": 20,
      "outputs": []
    },
    {
      "cell_type": "code",
      "metadata": {
        "id": "Nsyt0WN6NVd1"
      },
      "source": [
        "#placeholders for the 'inputs'  and 'outputs'\n",
        "\n",
        "inputs = tf.placeholder(tf.float32, [None, n_timesteps, n_input,1])\n",
        "outputs = tf.placeholder(tf.int32, [None])\n",
        "keep_prob = tf.placeholder(tf.float32)"
      ],
      "execution_count": 21,
      "outputs": []
    },
    {
      "cell_type": "code",
      "metadata": {
        "colab": {
          "base_uri": "https://localhost:8080/"
        },
        "id": "GlO64-LbdWkl",
        "outputId": "2001ac02-a828-4e6b-dc05-feae267e37d3"
      },
      "source": [
        "  # Convolutional Layer #1\n",
        "  conv1 = tf.layers.conv2d(inputs=inputs,filters=32,kernel_size=[5, 5],padding=\"same\",activation=tf.nn.relu)\n",
        "\n",
        "  # Pooling Layer #1\n",
        "  pool1 = tf.layers.max_pooling2d(inputs=conv1, pool_size=[2, 2], strides=2)\n",
        "\n",
        "  # Convolutional Layer #2 \n",
        "  conv2 = tf.layers.conv2d(inputs=pool1,filters=64,kernel_size=[5, 5],padding=\"same\", activation=tf.nn.relu)\n",
        "\n",
        "  #Pooling Layer #2\n",
        "  pool2 = tf.layers.max_pooling2d(inputs=conv2, pool_size=[2, 2], strides=2)\n",
        "  pool2_flat = tf.reshape(pool2, [-1, 7 * 7 * 64])\n",
        "\n",
        "  # Dense Layer\n",
        "  dense = tf.layers.dense(inputs=pool2_flat, units=1024, activation=tf.nn.relu)\n",
        "  dropout = tf.layers.dropout( inputs=dense, rate=0.8)\n",
        "\n",
        "  # Logits Layer\n",
        "  logits = tf.layers.dense(inputs=dropout, units=10)\n",
        "  predictions = {\"classes\": tf.argmax(input=logits, axis=1),\"probabilities\": tf.nn.softmax(logits, name=\"softmax_tensor\")}\n",
        "\n",
        "  # Loss Function\n",
        "  x_entropy = tf.nn.sparse_softmax_cross_entropy_with_logits(labels=outputs, logits=tf.reshape(logits, shape=(-1, n_labels)), name='softmax_cross_entropy')\n",
        "  loss = tf.reduce_mean(x_entropy, name='loss')\n",
        "  loss_summary = tf.summary.scalar('loss_summ', loss)\n",
        "\n",
        "  #Accuracy\n",
        "\n",
        "  optimizer = tf.train.AdamOptimizer(learning_rate=0.001, name='Adam_optimizer')\n",
        "  training_optimizer = optimizer.minimize(loss)\n",
        "  correct = tf.nn.in_top_k(tf.reshape(logits, (-1, n_labels)), outputs, 1)\n",
        "  accuracy = tf.reduce_mean(tf.cast(correct, tf.float32), name='Accuracy')\n",
        "  accuracy_summary = tf.summary.scalar('Acc_Summary', accuracy)"
      ],
      "execution_count": 26,
      "outputs": [
        {
          "output_type": "stream",
          "text": [
            "/usr/local/lib/python3.7/dist-packages/tensorflow/python/keras/legacy_tf_layers/convolutional.py:414: UserWarning: `tf.layers.conv2d` is deprecated and will be removed in a future version. Please Use `tf.keras.layers.Conv2D` instead.\n",
            "  warnings.warn('`tf.layers.conv2d` is deprecated and '\n",
            "/usr/local/lib/python3.7/dist-packages/tensorflow/python/keras/engine/base_layer_v1.py:1692: UserWarning: `layer.apply` is deprecated and will be removed in a future version. Please use `layer.__call__` method instead.\n",
            "  warnings.warn('`layer.apply` is deprecated and '\n",
            "/usr/local/lib/python3.7/dist-packages/tensorflow/python/keras/legacy_tf_layers/pooling.py:310: UserWarning: `tf.layers.max_pooling2d` is deprecated and will be removed in a future version. Please use `tf.keras.layers.MaxPooling2D` instead.\n",
            "  warnings.warn('`tf.layers.max_pooling2d` is deprecated and '\n",
            "/usr/local/lib/python3.7/dist-packages/tensorflow/python/keras/legacy_tf_layers/core.py:171: UserWarning: `tf.layers.dense` is deprecated and will be removed in a future version. Please use `tf.keras.layers.Dense` instead.\n",
            "  warnings.warn('`tf.layers.dense` is deprecated and '\n",
            "/usr/local/lib/python3.7/dist-packages/tensorflow/python/keras/legacy_tf_layers/core.py:268: UserWarning: `tf.layers.dropout` is deprecated and will be removed in a future version. Please use `tf.keras.layers.Dropout` instead.\n",
            "  warnings.warn('`tf.layers.dropout` is deprecated and '\n"
          ],
          "name": "stderr"
        }
      ]
    },
    {
      "cell_type": "markdown",
      "metadata": {
        "id": "teAK3D7NqSZa"
      },
      "source": [
        "#**Training and Validation**"
      ]
    },
    {
      "cell_type": "code",
      "metadata": {
        "id": "Oh_ajX4xkPFd"
      },
      "source": [
        "#initializing all the global variables\n",
        "\n",
        "init = tf.global_variables_initializer()"
      ],
      "execution_count": 27,
      "outputs": []
    },
    {
      "cell_type": "code",
      "metadata": {
        "id": "PasI_jftqOmA"
      },
      "source": [
        "#reshaping the validation set\n",
        "\n",
        "X_validation = validation_set\n",
        "Y_validation = validation_labels\n",
        "X_validation = X_validation.reshape([-1, n_timesteps, n_input,1])"
      ],
      "execution_count": 28,
      "outputs": []
    },
    {
      "cell_type": "code",
      "metadata": {
        "id": "_qFgmKJ4rKW2"
      },
      "source": [
        "#defining variables to implement \"Early Stopping\"\n",
        "\n",
        "patience=5 # patience for Early Stopping\n",
        "epochs_without_improvement=0\n",
        "best_loss=np.infty #best_loss upto the last epoch"
      ],
      "execution_count": 39,
      "outputs": []
    },
    {
      "cell_type": "code",
      "metadata": {
        "id": "fyPWpEADrkBO"
      },
      "source": [
        "#defining list to create graphs later to analyze trained model\n",
        "\n",
        "train_acc=[] #contain training accuracy of every epoch\n",
        "validation_acc=[] #contain validation accuracy of every epoch\n",
        "train_loss=[]  #contain training loss of every epoch\n",
        "validation_loss=[]  #contain validation loss of every epoch"
      ],
      "execution_count": 30,
      "outputs": []
    },
    {
      "cell_type": "markdown",
      "metadata": {
        "id": "Yi8MeQe0rtdx"
      },
      "source": [
        "**Training and Validation**"
      ]
    },
    {
      "cell_type": "code",
      "metadata": {
        "id": "AnQsx_-huP5j"
      },
      "source": [
        "#to save the best model and restore later\n",
        "saver = tf.train.Saver()"
      ],
      "execution_count": 37,
      "outputs": []
    },
    {
      "cell_type": "code",
      "metadata": {
        "id": "qYH6cLJYs0pZ"
      },
      "source": [
        "#function to return next batch of train set to be sent to train model\n",
        "\n",
        "def next_batch(current_batch,batch_size,train_set,train_labels):\n",
        "\n",
        "  i=current_batch*batch_size\n",
        "  j=(current_batch+1)*batch_size\n",
        "  X_train=train_set[i:j]\n",
        "  Y_train=train_labels[i:j]\n",
        "  return X_train,Y_train;\n"
      ],
      "execution_count": 38,
      "outputs": []
    },
    {
      "cell_type": "code",
      "metadata": {
        "colab": {
          "base_uri": "https://localhost:8080/"
        },
        "id": "CEF75ULArmoo",
        "outputId": "35db1267-8b27-4b3b-a8a2-d639beff466d"
      },
      "source": [
        "batch_size = 250 #barch size to train model\n",
        "n_epochs = 100 \n",
        "\n",
        "with tf.Session() as sess:\n",
        "    sess.run(init) \n",
        "\n",
        "    #number of barches(iterations) to complete one epoch\n",
        "    n_batches = train_set.shape[0] // batch_size\n",
        "\n",
        "    for epoch in range(n_epochs):\n",
        "        for current_batch in range(n_batches):\n",
        "            \n",
        "            X_train,Y_train=next_batch(current_batch,batch_size,train_set,train_labels)\n",
        "            X_train = X_train.reshape([-1, n_timesteps, n_input,1])\n",
        "\n",
        "            #running optimization(Back Propogation) with dropout(retention probability) 0.8\n",
        "            sess.run(training_optimizer, feed_dict={inputs: X_train, outputs: Y_train ,keep_prob: 0.8})\n",
        "\n",
        "        #calculating loss and accuracy after completion of epoch for train set\n",
        "        loss_train, acc_train = sess.run([loss, accuracy], feed_dict={inputs: X_train, outputs: Y_train,keep_prob: 0.8})\n",
        "\n",
        "        #calculating loss and accuracy after completion of epoch for validation set\n",
        "        loss_val, acc_val = sess.run([loss, accuracy], feed_dict={inputs: X_validation, outputs: Y_validation,keep_prob: 1.0})\n",
        "\n",
        "        #appending data to lists to plot graphs later\n",
        "        train_loss.append(loss_train)\n",
        "        train_acc.append(acc_train)\n",
        "        validation_loss.append(loss_val)\n",
        "        validation_acc.append(acc_val)\n",
        "\n",
        "        if epoch%5==0:\n",
        "          print('Epoch {}:\\nTrain Loss: {:.3f}, Train Acc: {:.3f}'.format( epoch + 1, loss_train, acc_train))\n",
        "          print('Validation Loss: {:.3f}, Validation Acc: {:.3f}\\n'.format(loss_val, acc_val))\n",
        "\n",
        "          if best_loss>loss_val:\n",
        "            #if train loss improved\n",
        "            best_loss=loss_val\n",
        "\n",
        "            #saving current best model\n",
        "            saver.save(sess, \"/logs_rnn/my_best_model.ckpt\")\n",
        "          else:\n",
        "            epochs_without_improvement+=1\n",
        "\n",
        "            #early stopping if perfomance is not improving over k(patience) iterations\n",
        "            if epochs_without_improvement>=patience:\n",
        "              print(\"\\nEarly stopping at epoch {} \".format(epoch+1))\n",
        "              break\n"
      ],
      "execution_count": 40,
      "outputs": [
        {
          "output_type": "stream",
          "text": [
            "Epoch 1:\n",
            "Train Loss: 0.354, Train Acc: 0.848\n",
            "Validation Loss: 0.338, Validation Acc: 0.879\n",
            "\n",
            "Epoch 6:\n",
            "Train Loss: 0.135, Train Acc: 0.952\n",
            "Validation Loss: 0.251, Validation Acc: 0.910\n",
            "\n",
            "Epoch 11:\n",
            "Train Loss: 0.072, Train Acc: 0.976\n",
            "Validation Loss: 0.285, Validation Acc: 0.911\n",
            "\n",
            "Epoch 16:\n",
            "Train Loss: 0.029, Train Acc: 0.992\n",
            "Validation Loss: 0.333, Validation Acc: 0.914\n",
            "\n",
            "Epoch 21:\n",
            "Train Loss: 0.025, Train Acc: 0.996\n",
            "Validation Loss: 0.436, Validation Acc: 0.911\n",
            "\n",
            "Epoch 26:\n",
            "Train Loss: 0.005, Train Acc: 1.000\n",
            "Validation Loss: 0.511, Validation Acc: 0.909\n",
            "\n",
            "Epoch 31:\n",
            "Train Loss: 0.002, Train Acc: 1.000\n",
            "Validation Loss: 0.544, Validation Acc: 0.916\n",
            "\n",
            "\n",
            "Early stopping at epoch 31 \n"
          ],
          "name": "stdout"
        }
      ]
    },
    {
      "cell_type": "code",
      "metadata": {
        "id": "xArGbtpvsrKu"
      },
      "source": [
        "test_image_data=test_image_data.reshape([-1, n_timesteps, n_input,1])"
      ],
      "execution_count": 41,
      "outputs": []
    },
    {
      "cell_type": "code",
      "metadata": {
        "colab": {
          "base_uri": "https://localhost:8080/"
        },
        "id": "wmt8abXmy8v9",
        "outputId": "894cddbb-3068-4f6a-8746-13fa7d1fe34e"
      },
      "source": [
        "#Restoring saved model from \"/logs_rnn/my_best_model\" and testing on testdata\n",
        "\n",
        "with tf.Session() as sess:\n",
        "    saver.restore(sess, \"/logs_rnn/my_best_model.ckpt\") #restored model\n",
        "\n",
        "    #testing model on testdata\n",
        "    loss_test, acc_test = sess.run([loss, accuracy], feed_dict={inputs: test_image_data, outputs: test_labels,keep_prob: 1.0})\n",
        "    print('Test Loss: {:.3f}, Test Acc: {:.3f}'.format(loss_test, acc_test))"
      ],
      "execution_count": 42,
      "outputs": [
        {
          "output_type": "stream",
          "text": [
            "INFO:tensorflow:Restoring parameters from /logs_rnn/my_best_model.ckpt\n",
            "Test Loss: 0.261, Test Acc: 0.907\n"
          ],
          "name": "stdout"
        }
      ]
    },
    {
      "cell_type": "markdown",
      "metadata": {
        "id": "8VAE6AKxzA4Z"
      },
      "source": [
        "#**Graph Plots**"
      ]
    },
    {
      "cell_type": "code",
      "metadata": {
        "colab": {
          "base_uri": "https://localhost:8080/",
          "height": 434
        },
        "id": "Qr0ypTXkzBWI",
        "outputId": "0112f7ea-70bc-41de-c038-416dae5bcbcf"
      },
      "source": [
        "#plotting graph between training acuracy vs validation accuracy\n",
        "\n",
        "fig, (ax1) = plt.subplots(1, figsize=(15,6))\n",
        "fig.suptitle('Evaluation results')\n",
        "ax1.set_title(\"Training Accuracy vs Validation Accuracy\")\n",
        "ax1.plot(range(len(train_acc)), train_acc, color=\"b\", label=\"Train Accuracy\")\n",
        "ax1.plot(range(len(validation_acc)), validation_acc, color=\"g\", label=\"Validation Accuracy\")\n",
        "ax1.legend(loc='lower right')"
      ],
      "execution_count": 43,
      "outputs": [
        {
          "output_type": "execute_result",
          "data": {
            "text/plain": [
              "<matplotlib.legend.Legend at 0x7f76606d5350>"
            ]
          },
          "metadata": {
            "tags": []
          },
          "execution_count": 43
        },
        {
          "output_type": "display_data",
          "data": {
            "image/png": "[encoded data removed]",
            "text/plain": [
              "<Figure size 1080x432 with 1 Axes>"
            ]
          },
          "metadata": {
            "tags": [],
            "needs_background": "light"
          }
        }
      ]
    },
    {
      "cell_type": "code",
      "metadata": {
        "colab": {
          "base_uri": "https://localhost:8080/",
          "height": 434
        },
        "id": "c1rGX0vWzK8E",
        "outputId": "5721a9b5-4137-4a6a-fd47-121e9a98d117"
      },
      "source": [
        "#plotting graph between training loss vs validation loss\n",
        "\n",
        "fig, (ax2) = plt.subplots(1, figsize=(15,6))\n",
        "fig.suptitle('Evaluation results')\n",
        "ax2.set_title(\"Training Loss vs Validation Loss\")\n",
        "ax2.plot(range(len(train_loss)), train_loss, color=\"b\", label=\"Train Loss\")\n",
        "ax2.plot(range(len(validation_loss)), validation_loss, color=\"g\", label=\"Validation Loss\")\n",
        "ax2.legend(loc='lower right')"
      ],
      "execution_count": 44,
      "outputs": [
        {
          "output_type": "execute_result",
          "data": {
            "text/plain": [
              "<matplotlib.legend.Legend at 0x7f76509a24d0>"
            ]
          },
          "metadata": {
            "tags": []
          },
          "execution_count": 44
        },
        {
          "output_type": "display_data",
          "data": {
            "image/png": "[encoded data removed]",
            "text/plain": [
              "<Figure size 1080x432 with 1 Axes>"
            ]
          },
          "metadata": {
            "tags": [],
            "needs_background": "light"
          }
        }
      ]
    }
  ]
}